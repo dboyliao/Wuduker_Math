{
 "cells": [
  {
   "cell_type": "markdown",
   "metadata": {},
   "source": [
    "## Reference\n",
    "\n",
    "- [Stability of Runge-Kutta Methods](http://www.staff.science.uu.nl/~frank011/Classes/numwisk/ch10.pdf)\n",
    "- [Google](https://www.google.com.tw/search?client=safari&rls=en&q=Runge%E2%80%93Kutta+integral+region+of+stability&oq=Runge%E2%80%93Kutta+integral+region+of+stability&gs_l=serp.3...12825.15755.0.15994.14.13.1.0.0.0.126.759.9j2.11.0....0...1c.1.64.serp..4.3.180...30i10k1.mb7_sB9LIgg)\n",
    "- [Finite Difference Methods for Differential Equations](https://edisciplinas.usp.br/pluginfile.php/41896/mod_resource/content/1/LeVeque%20Finite%20Diff.pdf)"
   ]
  },
  {
   "cell_type": "code",
   "execution_count": 1,
   "metadata": {
    "collapsed": true
   },
   "outputs": [],
   "source": [
    "%matplotlib inline\n",
    "import numpy as np\n",
    "import matplotlib.pyplot as plt"
   ]
  },
  {
   "cell_type": "code",
   "execution_count": 2,
   "metadata": {
    "collapsed": true
   },
   "outputs": [],
   "source": [
    "diff_op = np.array([[-1, 1, 0, 0, 0, 0],\n",
    "                    [ 0,-1, 1, 0, 0, 0],\n",
    "                    [ 0, 0,-1, 1, 0, 0],\n",
    "                    [ 0, 0, 0,-1, 1, 0],\n",
    "                    [ 0, 0, 0, 0,-1, 1],\n",
    "                    [ 1, 0, 0, 0, 0,-1]])"
   ]
  },
  {
   "cell_type": "code",
   "execution_count": 3,
   "metadata": {
    "collapsed": false
   },
   "outputs": [
    {
     "data": {
      "text/plain": [
       "array([[ 0, -1,  0,  0,  0,  1],\n",
       "       [ 1,  0, -1,  0,  0,  0],\n",
       "       [ 0,  1,  0, -1,  0,  0],\n",
       "       [ 0,  0,  1,  0, -1,  0],\n",
       "       [ 0,  0,  0,  1,  0, -1],\n",
       "       [-1,  0,  0,  0,  1,  0]])"
      ]
     },
     "execution_count": 3,
     "metadata": {},
     "output_type": "execute_result"
    }
   ],
   "source": [
    "diff_op.T - diff_op"
   ]
  },
  {
   "cell_type": "code",
   "execution_count": 4,
   "metadata": {
    "collapsed": false
   },
   "outputs": [],
   "source": [
    "values = np.linalg.eigvals(diff_op.T - diff_op)"
   ]
  },
  {
   "cell_type": "code",
   "execution_count": 5,
   "metadata": {
    "collapsed": false
   },
   "outputs": [
    {
     "data": {
      "text/plain": [
       "array([  6.01853108e-36 +1.73205081e+00j,\n",
       "         6.01853108e-36 -1.73205081e+00j,\n",
       "         1.25672793e-87 +1.73205081e+00j,\n",
       "         1.25672793e-87 -1.73205081e+00j,\n",
       "         0.00000000e+00 +2.79355325e-17j,   0.00000000e+00 -2.79355325e-17j])"
      ]
     },
     "execution_count": 5,
     "metadata": {},
     "output_type": "execute_result"
    }
   ],
   "source": [
    "values"
   ]
  },
  {
   "cell_type": "code",
   "execution_count": 6,
   "metadata": {
    "collapsed": false
   },
   "outputs": [],
   "source": [
    "v = values[0]"
   ]
  },
  {
   "cell_type": "code",
   "execution_count": null,
   "metadata": {
    "collapsed": true
   },
   "outputs": [],
   "source": []
  }
 ],
 "metadata": {
  "kernelspec": {
   "display_name": "Python 2",
   "language": "python",
   "name": "python2"
  },
  "language_info": {
   "codemirror_mode": {
    "name": "ipython",
    "version": 2
   },
   "file_extension": ".py",
   "mimetype": "text/x-python",
   "name": "python",
   "nbconvert_exporter": "python",
   "pygments_lexer": "ipython2",
   "version": "2.7.13"
  }
 },
 "nbformat": 4,
 "nbformat_minor": 2
}
